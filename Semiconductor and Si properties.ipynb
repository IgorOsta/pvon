{
 "cells": [
  {
   "cell_type": "code",
   "execution_count": 9,
   "metadata": {},
   "outputs": [
    {
     "name": "stdout",
     "output_type": "stream",
     "text": [
      "Thermal voltage 25 degC (V): 0.02569257041324195\n",
      "Thermal voltage 300 K (V): 0.02585199102456007\n",
      "Silicon ni at 25 degC 8.305e+09 cm-3\n",
      "Silicon ni at 300 K 9.696e+09 cm-3\n",
      "n-type cell with doping level of 2e15\n",
      "Majority n 2.000e+15, Minority p: 2.900e-05\n",
      "BGN Ec: 1.22e-03 eV, Ev 1.28e-03 eV\n",
      "nieff 8.718e+09\n",
      "radiative: 1.32e+16\n",
      "Mobility of electrons as minority carriers:  465.0854763938237\n"
     ]
    }
   ],
   "source": [
    "import photovoltaic as pv\n",
    "import numpy as np\n",
    "\n",
    "print('Thermal voltage 25 degC (V):', pv.Vt())  # default is 25degC\n",
    "print('Thermal voltage 300 K (V):', pv.Vt(300))\n",
    "print('Silicon ni at 25 degC {:.3e} cm-3'.format(pv.si.ni_misiakos()))\n",
    "print('Silicon ni at 300 K {:.3e} cm-3'.format(pv.si.ni_misiakos(300)))\n",
    "\n",
    "print('n-type cell with doping level of 2e15')\n",
    "ni = pv.si.ni_misiakos()\n",
    "n0, p0 = pv.semi.equilibrium_carrier(2e15, ni)  # n-type dioping at 1e15\n",
    "print('Majority n {:.3e}, Minority p: {:.3e}'.format(n0, p0))\n",
    "dn = 1e15\n",
    "dEc, dEv = pv.si.bandgap_schenk(n0 + dn, p0 + dn, n0, p0, dn)\n",
    "print('BGN Ec: {:.2e} eV, Ev {:.2e} eV'.format(dEc, dEv))\n",
    "\n",
    "print('nieff {:.3e}'.format(pv.si.n_ieff(n0, p0, 1e15)))\n",
    "B = pv.si.U_radiative_alt(n0, p0, dn)\n",
    "print('radiative: {:.3}'.format(B))\n",
    "print('Mobility of electrons as minority carriers: ', pv.si.mob_thurber(1e15, p_type=True, majority=False))\n"
   ]
  },
  {
   "cell_type": "code",
   "execution_count": null,
   "metadata": {},
   "outputs": [],
   "source": []
  }
 ],
 "metadata": {
  "kernelspec": {
   "display_name": "Python 3",
   "language": "python",
   "name": "python3"
  },
  "language_info": {
   "codemirror_mode": {
    "name": "ipython",
    "version": 3
   },
   "file_extension": ".py",
   "mimetype": "text/x-python",
   "name": "python",
   "nbconvert_exporter": "python",
   "pygments_lexer": "ipython3",
   "version": "3.8.3"
  }
 },
 "nbformat": 4,
 "nbformat_minor": 4
}
