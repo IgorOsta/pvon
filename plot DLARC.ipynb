{
 "cells": [
  {
   "cell_type": "markdown",
   "metadata": {},
   "source": [
    "# Double Layer Anti-reflection coating."
   ]
  },
  {
   "cell_type": "code",
   "execution_count": 17,
   "metadata": {},
   "outputs": [],
   "source": [
    "import matplotlib.pyplot as plt\n",
    "import numpy as np\n",
    "import photovoltaic as pv"
   ]
  },
  {
   "cell_type": "code",
   "execution_count": 18,
   "metadata": {},
   "outputs": [],
   "source": [
    "n0 = 1  # (units) refractive index of surroundings\n",
    "nSemi = 3.5 # refractive index of semiconductor\n",
    "Eg = 1.12 # (eV) bandgap of silicon\n",
    "Wg = 1239.8 / Eg # wavelength at the bandgap"
   ]
  },
  {
   "cell_type": "code",
   "execution_count": 19,
   "metadata": {},
   "outputs": [],
   "source": [
    "# read standard specta\n",
    "wavelength, AM0, AM15G, AM15D = pv.sun.solar_spectra()\n",
    "# truncate to wavelengths below bandgap\n",
    "wavelength_Eg = wavelength[wavelength < Wg]\n",
    "AM15G_Eg = AM15G[wavelength < Wg]"
   ]
  },
  {
   "cell_type": "code",
   "execution_count": 20,
   "metadata": {},
   "outputs": [
    {
     "name": "stdout",
     "output_type": "stream",
     "text": [
      "Ideal Jsc (zero reflectance) 437.73 A/m²\n"
     ]
    }
   ],
   "source": [
    "# current to band gap\n",
    "photons = AM15G_Eg * (wavelength_Eg / 1239.8)\n",
    "Jsc_total = np.trapz(photons, wavelength_Eg)\n",
    "print(f'Ideal Jsc (zero reflectance) {Jsc_total:.2f} A/m²')"
   ]
  },
  {
   "cell_type": "code",
   "execution_count": 21,
   "metadata": {},
   "outputs": [
    {
     "data": {
      "image/png": "[encoded data removed]",
      "text/plain": [
       "<Figure size 432x288 with 1 Axes>"
      ]
     },
     "metadata": {
      "needs_background": "light"
     },
     "output_type": "display_data"
    }
   ],
   "source": [
    "t1 = 200 # (nm) layer 1 thickness\n",
    "n1 = 1.3 # (units) layer1 reefrractive index\n",
    "t2 = 100 # (nm) layer 2 thickness\n",
    "n2 = 2.2 # (units) layer2 reefrractive index\n",
    "\n",
    "#calculate the reflectivity\n",
    "reflectivity = pv.optic.dlarc_refl(wavelength_Eg, n0, n1, n2, nSemi, t1, t2)\n",
    "Jsc_loss = np.trapz(photons * reflectivity, wavelength_Eg)  # A/m\n",
    "R_weighted = Jsc_loss / Jsc_total\n",
    "\n",
    "# plot the results\n",
    "#plt.axis([250, 1200, 0, 0.40])\n",
    "plt.plot(wavelength_Eg,reflectivity, lw=2, color='red')\n",
    "plt.xlabel('wavelength (nm)')\n",
    "plt.ylabel('reflectivity')\n",
    "plt.show()"
   ]
  },
  {
   "cell_type": "code",
   "execution_count": null,
   "metadata": {},
   "outputs": [],
   "source": []
  }
 ],
 "metadata": {
  "kernelspec": {
   "display_name": "Python 3",
   "language": "python",
   "name": "python3"
  },
  "language_info": {
   "codemirror_mode": {
    "name": "ipython",
    "version": 3
   },
   "file_extension": ".py",
   "mimetype": "text/x-python",
   "name": "python",
   "nbconvert_exporter": "python",
   "pygments_lexer": "ipython3",
   "version": "3.8.3"
  }
 },
 "nbformat": 4,
 "nbformat_minor": 4
}
