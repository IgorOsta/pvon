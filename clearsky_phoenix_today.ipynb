{
 "cells": [
  {
   "cell_type": "markdown",
   "metadata": {},
   "source": [
    "# Simple Calculation of Sun's Intensity with pvlib\n",
    "uses the fabulous pvlib from: https://github.com/pvlib/pvlib-python"
   ]
  },
  {
   "cell_type": "code",
   "execution_count": 34,
   "metadata": {
    "colab": {},
    "colab_type": "code",
    "id": "-ri2K8FTKE4q"
   },
   "outputs": [],
   "source": [
    "import matplotlib.pyplot as plt\n",
    "import pandas as pd\n",
    "import datetime\n",
    "from pytz import timezone\n",
    "from pvlib import clearsky, atmosphere\n",
    "from pvlib.location import Location"
   ]
  },
  {
   "cell_type": "markdown",
   "metadata": {
    "colab_type": "text",
    "id": "k-Qa6X-pRPIU"
   },
   "source": [
    "## Define the current location and time zone"
   ]
  },
  {
   "cell_type": "code",
   "execution_count": 35,
   "metadata": {
    "colab": {
     "base_uri": "https://localhost:8080/",
     "height": 127
    },
    "colab_type": "code",
    "id": "5IJfo2QQKZpH",
    "outputId": "5780bfdd-1e9a-4aff-d733-2379ba952e79"
   },
   "outputs": [
    {
     "name": "stdout",
     "output_type": "stream",
     "text": [
      "Location: \n",
      "  name: Phoenix\n",
      "  latitude: 33.4484\n",
      "  longitude: -112.074\n",
      "  altitude: 331\n",
      "  tz: US/Arizona\n"
     ]
    }
   ],
   "source": [
    "name = 'Phoenix'\n",
    "latitude = 33.4484 \n",
    "longitude = -112.0740\n",
    "altitude = 331 # (meters)\n",
    "time_zone = 'US/Arizona'\n",
    "phx = Location(latitude, longitude, time_zone, altitude, name)\n",
    "print(phx)"
   ]
  },
  {
   "cell_type": "markdown",
   "metadata": {
    "colab_type": "text",
    "id": "TLmA1X0PRQYH"
   },
   "source": [
    "## List the insolation for the next 30 minutes"
   ]
  },
  {
   "cell_type": "code",
   "execution_count": 36,
   "metadata": {
    "colab": {
     "base_uri": "https://localhost:8080/",
     "height": 237
    },
    "colab_type": "code",
    "id": "OZI1j_80LfjI",
    "outputId": "243416f8-be3a-4bc3-d9bd-95533f008928"
   },
   "outputs": [
    {
     "name": "stdout",
     "output_type": "stream",
     "text": [
      "units of (W/m2) except as noted\n"
     ]
    },
    {
     "data": {
      "text/html": [
       "<div>\n",
       "<style scoped>\n",
       "    .dataframe tbody tr th:only-of-type {\n",
       "        vertical-align: middle;\n",
       "    }\n",
       "\n",
       "    .dataframe tbody tr th {\n",
       "        vertical-align: top;\n",
       "    }\n",
       "\n",
       "    .dataframe thead th {\n",
       "        text-align: right;\n",
       "    }\n",
       "</style>\n",
       "<table border=\"1\" class=\"dataframe\">\n",
       "  <thead>\n",
       "    <tr style=\"text-align: right;\">\n",
       "      <th></th>\n",
       "      <th>ghi</th>\n",
       "      <th>dni</th>\n",
       "      <th>dhi</th>\n",
       "      <th>ghi_suns</th>\n",
       "    </tr>\n",
       "  </thead>\n",
       "  <tbody>\n",
       "    <tr>\n",
       "      <th>2020-06-24 12:20:33.356988-07:00</th>\n",
       "      <td>999.183478</td>\n",
       "      <td>893.656437</td>\n",
       "      <td>119.970671</td>\n",
       "      <td>0.999183</td>\n",
       "    </tr>\n",
       "    <tr>\n",
       "      <th>2020-06-24 12:21:33.356988-07:00</th>\n",
       "      <td>999.349818</td>\n",
       "      <td>893.683660</td>\n",
       "      <td>119.981860</td>\n",
       "      <td>0.999350</td>\n",
       "    </tr>\n",
       "    <tr>\n",
       "      <th>2020-06-24 12:22:33.356988-07:00</th>\n",
       "      <td>999.499301</td>\n",
       "      <td>893.708118</td>\n",
       "      <td>119.991914</td>\n",
       "      <td>0.999499</td>\n",
       "    </tr>\n",
       "    <tr>\n",
       "      <th>2020-06-24 12:23:33.356988-07:00</th>\n",
       "      <td>999.631923</td>\n",
       "      <td>893.729812</td>\n",
       "      <td>120.000835</td>\n",
       "      <td>0.999632</td>\n",
       "    </tr>\n",
       "    <tr>\n",
       "      <th>2020-06-24 12:24:33.356988-07:00</th>\n",
       "      <td>999.747683</td>\n",
       "      <td>893.748744</td>\n",
       "      <td>120.008621</td>\n",
       "      <td>0.999748</td>\n",
       "    </tr>\n",
       "    <tr>\n",
       "      <th>2020-06-24 12:25:33.356988-07:00</th>\n",
       "      <td>999.846578</td>\n",
       "      <td>893.764915</td>\n",
       "      <td>120.015272</td>\n",
       "      <td>0.999847</td>\n",
       "    </tr>\n",
       "    <tr>\n",
       "      <th>2020-06-24 12:26:33.356988-07:00</th>\n",
       "      <td>999.928605</td>\n",
       "      <td>893.778326</td>\n",
       "      <td>120.020789</td>\n",
       "      <td>0.999929</td>\n",
       "    </tr>\n",
       "    <tr>\n",
       "      <th>2020-06-24 12:27:33.356988-07:00</th>\n",
       "      <td>999.993764</td>\n",
       "      <td>893.788978</td>\n",
       "      <td>120.025172</td>\n",
       "      <td>0.999994</td>\n",
       "    </tr>\n",
       "    <tr>\n",
       "      <th>2020-06-24 12:28:33.356988-07:00</th>\n",
       "      <td>1000.042052</td>\n",
       "      <td>893.796871</td>\n",
       "      <td>120.028419</td>\n",
       "      <td>1.000042</td>\n",
       "    </tr>\n",
       "    <tr>\n",
       "      <th>2020-06-24 12:29:33.356988-07:00</th>\n",
       "      <td>1000.073470</td>\n",
       "      <td>893.802007</td>\n",
       "      <td>120.030532</td>\n",
       "      <td>1.000073</td>\n",
       "    </tr>\n",
       "    <tr>\n",
       "      <th>2020-06-24 12:30:33.356988-07:00</th>\n",
       "      <td>1000.088016</td>\n",
       "      <td>893.804384</td>\n",
       "      <td>120.031511</td>\n",
       "      <td>1.000088</td>\n",
       "    </tr>\n",
       "    <tr>\n",
       "      <th>2020-06-24 12:31:33.356988-07:00</th>\n",
       "      <td>1000.085691</td>\n",
       "      <td>893.804004</td>\n",
       "      <td>120.031354</td>\n",
       "      <td>1.000086</td>\n",
       "    </tr>\n",
       "    <tr>\n",
       "      <th>2020-06-24 12:32:33.356988-07:00</th>\n",
       "      <td>1000.066493</td>\n",
       "      <td>893.800866</td>\n",
       "      <td>120.030063</td>\n",
       "      <td>1.000066</td>\n",
       "    </tr>\n",
       "    <tr>\n",
       "      <th>2020-06-24 12:33:33.356988-07:00</th>\n",
       "      <td>1000.030424</td>\n",
       "      <td>893.794971</td>\n",
       "      <td>120.027637</td>\n",
       "      <td>1.000030</td>\n",
       "    </tr>\n",
       "    <tr>\n",
       "      <th>2020-06-24 12:34:33.356988-07:00</th>\n",
       "      <td>999.977484</td>\n",
       "      <td>893.786317</td>\n",
       "      <td>120.024077</td>\n",
       "      <td>0.999977</td>\n",
       "    </tr>\n",
       "    <tr>\n",
       "      <th>2020-06-24 12:35:33.356988-07:00</th>\n",
       "      <td>999.907675</td>\n",
       "      <td>893.774905</td>\n",
       "      <td>120.019382</td>\n",
       "      <td>0.999908</td>\n",
       "    </tr>\n",
       "    <tr>\n",
       "      <th>2020-06-24 12:36:33.356988-07:00</th>\n",
       "      <td>999.820997</td>\n",
       "      <td>893.760733</td>\n",
       "      <td>120.013552</td>\n",
       "      <td>0.999821</td>\n",
       "    </tr>\n",
       "    <tr>\n",
       "      <th>2020-06-24 12:37:33.356988-07:00</th>\n",
       "      <td>999.717452</td>\n",
       "      <td>893.743801</td>\n",
       "      <td>120.006588</td>\n",
       "      <td>0.999717</td>\n",
       "    </tr>\n",
       "    <tr>\n",
       "      <th>2020-06-24 12:38:33.356988-07:00</th>\n",
       "      <td>999.597043</td>\n",
       "      <td>893.724107</td>\n",
       "      <td>119.998489</td>\n",
       "      <td>0.999597</td>\n",
       "    </tr>\n",
       "    <tr>\n",
       "      <th>2020-06-24 12:39:33.356988-07:00</th>\n",
       "      <td>999.459772</td>\n",
       "      <td>893.701651</td>\n",
       "      <td>119.989256</td>\n",
       "      <td>0.999460</td>\n",
       "    </tr>\n",
       "    <tr>\n",
       "      <th>2020-06-24 12:40:33.356988-07:00</th>\n",
       "      <td>999.305640</td>\n",
       "      <td>893.676431</td>\n",
       "      <td>119.978888</td>\n",
       "      <td>0.999306</td>\n",
       "    </tr>\n",
       "    <tr>\n",
       "      <th>2020-06-24 12:41:33.356988-07:00</th>\n",
       "      <td>999.134653</td>\n",
       "      <td>893.648445</td>\n",
       "      <td>119.967386</td>\n",
       "      <td>0.999135</td>\n",
       "    </tr>\n",
       "    <tr>\n",
       "      <th>2020-06-24 12:42:33.356988-07:00</th>\n",
       "      <td>998.946812</td>\n",
       "      <td>893.617692</td>\n",
       "      <td>119.954750</td>\n",
       "      <td>0.998947</td>\n",
       "    </tr>\n",
       "    <tr>\n",
       "      <th>2020-06-24 12:43:33.356988-07:00</th>\n",
       "      <td>998.742121</td>\n",
       "      <td>893.584170</td>\n",
       "      <td>119.940980</td>\n",
       "      <td>0.998742</td>\n",
       "    </tr>\n",
       "    <tr>\n",
       "      <th>2020-06-24 12:44:33.356988-07:00</th>\n",
       "      <td>998.520585</td>\n",
       "      <td>893.547877</td>\n",
       "      <td>119.926077</td>\n",
       "      <td>0.998521</td>\n",
       "    </tr>\n",
       "    <tr>\n",
       "      <th>2020-06-24 12:45:33.356988-07:00</th>\n",
       "      <td>998.282207</td>\n",
       "      <td>893.508809</td>\n",
       "      <td>119.910039</td>\n",
       "      <td>0.998282</td>\n",
       "    </tr>\n",
       "    <tr>\n",
       "      <th>2020-06-24 12:46:33.356988-07:00</th>\n",
       "      <td>998.026993</td>\n",
       "      <td>893.466966</td>\n",
       "      <td>119.892868</td>\n",
       "      <td>0.998027</td>\n",
       "    </tr>\n",
       "    <tr>\n",
       "      <th>2020-06-24 12:47:33.356988-07:00</th>\n",
       "      <td>997.754948</td>\n",
       "      <td>893.422345</td>\n",
       "      <td>119.874563</td>\n",
       "      <td>0.997755</td>\n",
       "    </tr>\n",
       "    <tr>\n",
       "      <th>2020-06-24 12:48:33.356988-07:00</th>\n",
       "      <td>997.466076</td>\n",
       "      <td>893.374942</td>\n",
       "      <td>119.855125</td>\n",
       "      <td>0.997466</td>\n",
       "    </tr>\n",
       "    <tr>\n",
       "      <th>2020-06-24 12:49:33.356988-07:00</th>\n",
       "      <td>997.160384</td>\n",
       "      <td>893.324755</td>\n",
       "      <td>119.834554</td>\n",
       "      <td>0.997160</td>\n",
       "    </tr>\n",
       "  </tbody>\n",
       "</table>\n",
       "</div>"
      ],
      "text/plain": [
       "                                          ghi         dni         dhi  \\\n",
       "2020-06-24 12:20:33.356988-07:00   999.183478  893.656437  119.970671   \n",
       "2020-06-24 12:21:33.356988-07:00   999.349818  893.683660  119.981860   \n",
       "2020-06-24 12:22:33.356988-07:00   999.499301  893.708118  119.991914   \n",
       "2020-06-24 12:23:33.356988-07:00   999.631923  893.729812  120.000835   \n",
       "2020-06-24 12:24:33.356988-07:00   999.747683  893.748744  120.008621   \n",
       "2020-06-24 12:25:33.356988-07:00   999.846578  893.764915  120.015272   \n",
       "2020-06-24 12:26:33.356988-07:00   999.928605  893.778326  120.020789   \n",
       "2020-06-24 12:27:33.356988-07:00   999.993764  893.788978  120.025172   \n",
       "2020-06-24 12:28:33.356988-07:00  1000.042052  893.796871  120.028419   \n",
       "2020-06-24 12:29:33.356988-07:00  1000.073470  893.802007  120.030532   \n",
       "2020-06-24 12:30:33.356988-07:00  1000.088016  893.804384  120.031511   \n",
       "2020-06-24 12:31:33.356988-07:00  1000.085691  893.804004  120.031354   \n",
       "2020-06-24 12:32:33.356988-07:00  1000.066493  893.800866  120.030063   \n",
       "2020-06-24 12:33:33.356988-07:00  1000.030424  893.794971  120.027637   \n",
       "2020-06-24 12:34:33.356988-07:00   999.977484  893.786317  120.024077   \n",
       "2020-06-24 12:35:33.356988-07:00   999.907675  893.774905  120.019382   \n",
       "2020-06-24 12:36:33.356988-07:00   999.820997  893.760733  120.013552   \n",
       "2020-06-24 12:37:33.356988-07:00   999.717452  893.743801  120.006588   \n",
       "2020-06-24 12:38:33.356988-07:00   999.597043  893.724107  119.998489   \n",
       "2020-06-24 12:39:33.356988-07:00   999.459772  893.701651  119.989256   \n",
       "2020-06-24 12:40:33.356988-07:00   999.305640  893.676431  119.978888   \n",
       "2020-06-24 12:41:33.356988-07:00   999.134653  893.648445  119.967386   \n",
       "2020-06-24 12:42:33.356988-07:00   998.946812  893.617692  119.954750   \n",
       "2020-06-24 12:43:33.356988-07:00   998.742121  893.584170  119.940980   \n",
       "2020-06-24 12:44:33.356988-07:00   998.520585  893.547877  119.926077   \n",
       "2020-06-24 12:45:33.356988-07:00   998.282207  893.508809  119.910039   \n",
       "2020-06-24 12:46:33.356988-07:00   998.026993  893.466966  119.892868   \n",
       "2020-06-24 12:47:33.356988-07:00   997.754948  893.422345  119.874563   \n",
       "2020-06-24 12:48:33.356988-07:00   997.466076  893.374942  119.855125   \n",
       "2020-06-24 12:49:33.356988-07:00   997.160384  893.324755  119.834554   \n",
       "\n",
       "                                  ghi_suns  \n",
       "2020-06-24 12:20:33.356988-07:00  0.999183  \n",
       "2020-06-24 12:21:33.356988-07:00  0.999350  \n",
       "2020-06-24 12:22:33.356988-07:00  0.999499  \n",
       "2020-06-24 12:23:33.356988-07:00  0.999632  \n",
       "2020-06-24 12:24:33.356988-07:00  0.999748  \n",
       "2020-06-24 12:25:33.356988-07:00  0.999847  \n",
       "2020-06-24 12:26:33.356988-07:00  0.999929  \n",
       "2020-06-24 12:27:33.356988-07:00  0.999994  \n",
       "2020-06-24 12:28:33.356988-07:00  1.000042  \n",
       "2020-06-24 12:29:33.356988-07:00  1.000073  \n",
       "2020-06-24 12:30:33.356988-07:00  1.000088  \n",
       "2020-06-24 12:31:33.356988-07:00  1.000086  \n",
       "2020-06-24 12:32:33.356988-07:00  1.000066  \n",
       "2020-06-24 12:33:33.356988-07:00  1.000030  \n",
       "2020-06-24 12:34:33.356988-07:00  0.999977  \n",
       "2020-06-24 12:35:33.356988-07:00  0.999908  \n",
       "2020-06-24 12:36:33.356988-07:00  0.999821  \n",
       "2020-06-24 12:37:33.356988-07:00  0.999717  \n",
       "2020-06-24 12:38:33.356988-07:00  0.999597  \n",
       "2020-06-24 12:39:33.356988-07:00  0.999460  \n",
       "2020-06-24 12:40:33.356988-07:00  0.999306  \n",
       "2020-06-24 12:41:33.356988-07:00  0.999135  \n",
       "2020-06-24 12:42:33.356988-07:00  0.998947  \n",
       "2020-06-24 12:43:33.356988-07:00  0.998742  \n",
       "2020-06-24 12:44:33.356988-07:00  0.998521  \n",
       "2020-06-24 12:45:33.356988-07:00  0.998282  \n",
       "2020-06-24 12:46:33.356988-07:00  0.998027  \n",
       "2020-06-24 12:47:33.356988-07:00  0.997755  \n",
       "2020-06-24 12:48:33.356988-07:00  0.997466  \n",
       "2020-06-24 12:49:33.356988-07:00  0.997160  "
      ]
     },
     "execution_count": 36,
     "metadata": {},
     "output_type": "execute_result"
    }
   ],
   "source": [
    "dt = datetime.datetime.now(tz=timezone('US/Arizona'))\n",
    "#uncomment for a specific start time\n",
    "#dt = '2020-04-24 9:00:00' \n",
    "times = pd.date_range(start=dt, periods=30, freq='1min', tz=phx.tz)\n",
    "cs = phx.get_clearsky(times)  # ineichen with climatology table by default\n",
    "cs['ghi_suns'] = cs.ghi/1000\n",
    "print('units of (W/m2) except as noted')\n",
    "cs"
   ]
  },
  {
   "cell_type": "markdown",
   "metadata": {
    "colab_type": "text",
    "id": "wwUtmgwARu6j"
   },
   "source": [
    "## Plot the insolation for one day"
   ]
  },
  {
   "cell_type": "code",
   "execution_count": 37,
   "metadata": {
    "colab": {
     "base_uri": "https://localhost:8080/",
     "height": 284
    },
    "colab_type": "code",
    "id": "LjZRL2kZKN-a",
    "outputId": "bcc8f03f-5dcf-41ed-d899-5f5cf51f43bd"
   },
   "outputs": [
    {
     "data": {
      "text/plain": [
       "<matplotlib.axes._subplots.AxesSubplot at 0x217af9cac40>"
      ]
     },
     "execution_count": 37,
     "metadata": {},
     "output_type": "execute_result"
    },
    {
     "data": {
      "image/png": "[encoded data removed]",
      "text/plain": [
       "<Figure size 432x288 with 1 Axes>"
      ]
     },
     "metadata": {
      "needs_background": "light"
     },
     "output_type": "display_data"
    }
   ],
   "source": [
    "times = pd.date_range(start='2020-04-20', periods=24*6, freq='10min', tz=phx.tz)\n",
    "cs = phx.get_clearsky(times)  # ineichen with climatology table by default\n",
    "cs.plot()"
   ]
  },
  {
   "cell_type": "code",
   "execution_count": null,
   "metadata": {},
   "outputs": [],
   "source": []
  }
 ],
 "metadata": {
  "colab": {
   "name": "clearsky_phoenix_today.ipynb",
   "provenance": []
  },
  "kernelspec": {
   "display_name": "Python 3",
   "language": "python",
   "name": "python3"
  },
  "language_info": {
   "codemirror_mode": {
    "name": "ipython",
    "version": 3
   },
   "file_extension": ".py",
   "mimetype": "text/x-python",
   "name": "python",
   "nbconvert_exporter": "python",
   "pygments_lexer": "ipython3",
   "version": "3.8.3"
  }
 },
 "nbformat": 4,
 "nbformat_minor": 1
}
